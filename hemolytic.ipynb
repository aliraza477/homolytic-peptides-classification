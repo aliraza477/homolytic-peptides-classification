{
  "nbformat": 4,
  "nbformat_minor": 0,
  "metadata": {
    "colab": {
      "name": "hemolytic.ipynb",
      "provenance": [],
      "include_colab_link": true
    },
    "kernelspec": {
      "name": "python3",
      "display_name": "Python 3"
    }
  },
  "cells": [
    {
      "cell_type": "markdown",
      "metadata": {
        "id": "view-in-github",
        "colab_type": "text"
      },
      "source": [
        "<a href=\"https://colab.research.google.com/github/aliraza477/homolytic-peptides-classification/blob/master/hemolytic.ipynb\" target=\"_parent\"><img src=\"https://colab.research.google.com/assets/colab-badge.svg\" alt=\"Open In Colab\"/></a>"
      ]
    },
    {
      "cell_type": "code",
      "metadata": {
        "id": "Lu8hICm-5hE8",
        "colab_type": "code",
        "outputId": "b30f354c-d00d-4c97-d7c4-5b747e4bf81b",
        "colab": {
          "resources": {
            "http://localhost:8080/nbextensions/google.colab/files.js": {
              "data": "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",
              "ok": true,
              "headers": [
                [
                  "content-type",
                  "application/javascript"
                ]
              ],
              "status": 200,
              "status_text": ""
            }
          },
          "base_uri": "https://localhost:8080/",
          "height": 40
        }
      },
      "source": [
        "from google.colab import files\n",
        "\n",
        "uploaded = files.upload()\n",
        "\n",
        "for fn in uploaded.keys():\n",
        "  print('User uploaded file \"{name}\" with length {length} bytes'.format(\n",
        "      name=fn, length=len(uploaded[fn])))"
      ],
      "execution_count": 33,
      "outputs": [
        {
          "output_type": "display_data",
          "data": {
            "text/html": [
              "\n",
              "     <input type=\"file\" id=\"files-247b416a-b93f-449f-90a8-712b3eac7deb\" name=\"files[]\" multiple disabled />\n",
              "     <output id=\"result-247b416a-b93f-449f-90a8-712b3eac7deb\">\n",
              "      Upload widget is only available when the cell has been executed in the\n",
              "      current browser session. Please rerun this cell to enable.\n",
              "      </output>\n",
              "      <script src=\"/nbextensions/google.colab/files.js\"></script> "
            ],
            "text/plain": [
              "<IPython.core.display.HTML object>"
            ]
          },
          "metadata": {
            "tags": []
          }
        }
      ]
    },
    {
      "cell_type": "code",
      "metadata": {
        "id": "99AhKcFB_mD4",
        "colab_type": "code",
        "colab": {}
      },
      "source": [
        "\n",
        "import bio"
      ],
      "execution_count": 0,
      "outputs": []
    },
    {
      "cell_type": "code",
      "metadata": {
        "id": "Tt_yZrHh6QUN",
        "colab_type": "code",
        "colab": {}
      },
      "source": [
        "import numpy as np\n",
        "from Bio import SeqIO\n",
        "import pandas as pd\n",
        "def feature_extract1(filename): \n",
        "    FeatCompV=np.empty(20)\n",
        "    char=['A','C','D','E','F','G','H','I','K','L','M','N','P','Q','R','S','T','V','W','Y']\n",
        "    records = list(SeqIO.parse(filename, \"fasta\"))\n",
        "    keys=[]\n",
        "    for i in range(0,len(records)):\n",
        "        FeatComp=np.zeros(20)\n",
        "        s=str((records[i].seq))\n",
        "        keys.append(records[i].id)\n",
        "        d={'A':0,'C':0,'D':0,'E':0,'F':0,'G':0,'H':0,'I':0,'K':0,'L':0,'M':0,'N':0,'P':0,'Q':0,'R':0,'S':0,'T':0,'V':0,'W':0,'Y':0} \n",
        "        for j in range (0,len(s)): \n",
        "            try:\n",
        "                d[s[j]]+=1\n",
        "                FeatComp[char.index(s[j])]+=1\n",
        "            except:\n",
        "                FeatComp[np.argmax(FeatComp)]+=1\n",
        "               \n",
        "        FeatCompV=np.vstack((FeatCompV,FeatComp))\n",
        "    FeatCompV=np.delete(FeatCompV, (0), axis=0)\n",
        "    #FeatCompV=preprocessing.normalize(FeatCompV,axis=0)      \n",
        "    return pd.DataFrame(FeatCompV,index=keys)"
      ],
      "execution_count": 0,
      "outputs": []
    },
    {
      "cell_type": "code",
      "metadata": {
        "id": "nqR8rucY_KPW",
        "colab_type": "code",
        "outputId": "2226ea59-e090-44c0-8ca4-eb79cf2fa3b7",
        "colab": {
          "base_uri": "https://localhost:8080/",
          "height": 139
        }
      },
      "source": [
        "!pip install Biopython"
      ],
      "execution_count": 0,
      "outputs": [
        {
          "output_type": "stream",
          "text": [
            "Collecting Biopython\n",
            "\u001b[?25l  Downloading https://files.pythonhosted.org/packages/ed/77/de3ba8f3d3015455f5df859c082729198ee6732deaeb4b87b9cfbfbaafe3/biopython-1.74-cp36-cp36m-manylinux1_x86_64.whl (2.2MB)\n",
            "\r\u001b[K     |▏                               | 10kB 11.3MB/s eta 0:00:01\r\u001b[K     |▎                               | 20kB 7.1MB/s eta 0:00:01\r\u001b[K     |▌                               | 30kB 9.7MB/s eta 0:00:01\r\u001b[K     |▋                               | 40kB 5.8MB/s eta 0:00:01\r\u001b[K     |▊                               | 51kB 7.0MB/s eta 0:00:01\r\u001b[K     |█                               | 61kB 8.2MB/s eta 0:00:01\r\u001b[K     |█                               | 71kB 9.3MB/s eta 0:00:01\r\u001b[K     |█▏                              | 81kB 7.3MB/s eta 0:00:01\r\u001b[K     |█▍                              | 92kB 8.0MB/s eta 0:00:01\r\u001b[K     |█▌                              | 102kB 8.8MB/s eta 0:00:01\r\u001b[K     |█▋                              | 112kB 8.8MB/s eta 0:00:01\r\u001b[K     |█▉                              | 122kB 8.8MB/s eta 0:00:01\r\u001b[K     |██                              | 133kB 8.8MB/s eta 0:00:01\r\u001b[K     |██                              | 143kB 8.8MB/s eta 0:00:01\r\u001b[K     |██▎                             | 153kB 8.8MB/s eta 0:00:01\r\u001b[K     |██▍                             | 163kB 8.8MB/s eta 0:00:01\r\u001b[K     |██▌                             | 174kB 8.8MB/s eta 0:00:01\r\u001b[K     |██▊                             | 184kB 8.8MB/s eta 0:00:01\r\u001b[K     |██▉                             | 194kB 8.8MB/s eta 0:00:01\r\u001b[K     |███                             | 204kB 8.8MB/s eta 0:00:01\r\u001b[K     |███▏                            | 215kB 8.8MB/s eta 0:00:01\r\u001b[K     |███▎                            | 225kB 8.8MB/s eta 0:00:01\r\u001b[K     |███▍                            | 235kB 8.8MB/s eta 0:00:01\r\u001b[K     |███▋                            | 245kB 8.8MB/s eta 0:00:01\r\u001b[K     |███▊                            | 256kB 8.8MB/s eta 0:00:01\r\u001b[K     |███▉                            | 266kB 8.8MB/s eta 0:00:01\r\u001b[K     |████                            | 276kB 8.8MB/s eta 0:00:01\r\u001b[K     |████▏                           | 286kB 8.8MB/s eta 0:00:01\r\u001b[K     |████▎                           | 296kB 8.8MB/s eta 0:00:01\r\u001b[K     |████▌                           | 307kB 8.8MB/s eta 0:00:01\r\u001b[K     |████▋                           | 317kB 8.8MB/s eta 0:00:01\r\u001b[K     |████▉                           | 327kB 8.8MB/s eta 0:00:01\r\u001b[K     |█████                           | 337kB 8.8MB/s eta 0:00:01\r\u001b[K     |█████                           | 348kB 8.8MB/s eta 0:00:01\r\u001b[K     |█████▎                          | 358kB 8.8MB/s eta 0:00:01\r\u001b[K     |█████▍                          | 368kB 8.8MB/s eta 0:00:01\r\u001b[K     |█████▌                          | 378kB 8.8MB/s eta 0:00:01\r\u001b[K     |█████▊                          | 389kB 8.8MB/s eta 0:00:01\r\u001b[K     |█████▉                          | 399kB 8.8MB/s eta 0:00:01\r\u001b[K     |██████                          | 409kB 8.8MB/s eta 0:00:01\r\u001b[K     |██████▏                         | 419kB 8.8MB/s eta 0:00:01\r\u001b[K     |██████▎                         | 430kB 8.8MB/s eta 0:00:01\r\u001b[K     |██████▍                         | 440kB 8.8MB/s eta 0:00:01\r\u001b[K     |██████▋                         | 450kB 8.8MB/s eta 0:00:01\r\u001b[K     |██████▊                         | 460kB 8.8MB/s eta 0:00:01\r\u001b[K     |██████▉                         | 471kB 8.8MB/s eta 0:00:01\r\u001b[K     |███████                         | 481kB 8.8MB/s eta 0:00:01\r\u001b[K     |███████▏                        | 491kB 8.8MB/s eta 0:00:01\r\u001b[K     |███████▎                        | 501kB 8.8MB/s eta 0:00:01\r\u001b[K     |███████▌                        | 512kB 8.8MB/s eta 0:00:01\r\u001b[K     |███████▋                        | 522kB 8.8MB/s eta 0:00:01\r\u001b[K     |███████▊                        | 532kB 8.8MB/s eta 0:00:01\r\u001b[K     |████████                        | 542kB 8.8MB/s eta 0:00:01\r\u001b[K     |████████                        | 552kB 8.8MB/s eta 0:00:01\r\u001b[K     |████████▏                       | 563kB 8.8MB/s eta 0:00:01\r\u001b[K     |████████▍                       | 573kB 8.8MB/s eta 0:00:01\r\u001b[K     |████████▌                       | 583kB 8.8MB/s eta 0:00:01\r\u001b[K     |████████▋                       | 593kB 8.8MB/s eta 0:00:01\r\u001b[K     |████████▉                       | 604kB 8.8MB/s eta 0:00:01\r\u001b[K     |█████████                       | 614kB 8.8MB/s eta 0:00:01\r\u001b[K     |█████████                       | 624kB 8.8MB/s eta 0:00:01\r\u001b[K     |█████████▎                      | 634kB 8.8MB/s eta 0:00:01\r\u001b[K     |█████████▍                      | 645kB 8.8MB/s eta 0:00:01\r\u001b[K     |█████████▋                      | 655kB 8.8MB/s eta 0:00:01\r\u001b[K     |█████████▊                      | 665kB 8.8MB/s eta 0:00:01\r\u001b[K     |█████████▉                      | 675kB 8.8MB/s eta 0:00:01\r\u001b[K     |██████████                      | 686kB 8.8MB/s eta 0:00:01\r\u001b[K     |██████████▏                     | 696kB 8.8MB/s eta 0:00:01\r\u001b[K     |██████████▎                     | 706kB 8.8MB/s eta 0:00:01\r\u001b[K     |██████████▌                     | 716kB 8.8MB/s eta 0:00:01\r\u001b[K     |██████████▋                     | 727kB 8.8MB/s eta 0:00:01\r\u001b[K     |██████████▊                     | 737kB 8.8MB/s eta 0:00:01\r\u001b[K     |███████████                     | 747kB 8.8MB/s eta 0:00:01\r\u001b[K     |███████████                     | 757kB 8.8MB/s eta 0:00:01\r\u001b[K     |███████████▏                    | 768kB 8.8MB/s eta 0:00:01\r\u001b[K     |███████████▍                    | 778kB 8.8MB/s eta 0:00:01\r\u001b[K     |███████████▌                    | 788kB 8.8MB/s eta 0:00:01\r\u001b[K     |███████████▋                    | 798kB 8.8MB/s eta 0:00:01\r\u001b[K     |███████████▉                    | 808kB 8.8MB/s eta 0:00:01\r\u001b[K     |████████████                    | 819kB 8.8MB/s eta 0:00:01\r\u001b[K     |████████████                    | 829kB 8.8MB/s eta 0:00:01\r\u001b[K     |████████████▎                   | 839kB 8.8MB/s eta 0:00:01\r\u001b[K     |████████████▍                   | 849kB 8.8MB/s eta 0:00:01\r\u001b[K     |████████████▌                   | 860kB 8.8MB/s eta 0:00:01\r\u001b[K     |████████████▊                   | 870kB 8.8MB/s eta 0:00:01\r\u001b[K     |████████████▉                   | 880kB 8.8MB/s eta 0:00:01\r\u001b[K     |█████████████                   | 890kB 8.8MB/s eta 0:00:01\r\u001b[K     |█████████████▏                  | 901kB 8.8MB/s eta 0:00:01\r\u001b[K     |█████████████▎                  | 911kB 8.8MB/s eta 0:00:01\r\u001b[K     |█████████████▍                  | 921kB 8.8MB/s eta 0:00:01\r\u001b[K     |█████████████▋                  | 931kB 8.8MB/s eta 0:00:01\r\u001b[K     |█████████████▊                  | 942kB 8.8MB/s eta 0:00:01\r\u001b[K     |██████████████                  | 952kB 8.8MB/s eta 0:00:01\r\u001b[K     |██████████████                  | 962kB 8.8MB/s eta 0:00:01\r\u001b[K     |██████████████▏                 | 972kB 8.8MB/s eta 0:00:01\r\u001b[K     |██████████████▍                 | 983kB 8.8MB/s eta 0:00:01\r\u001b[K     |██████████████▌                 | 993kB 8.8MB/s eta 0:00:01\r\u001b[K     |██████████████▋                 | 1.0MB 8.8MB/s eta 0:00:01\r\u001b[K     |██████████████▉                 | 1.0MB 8.8MB/s eta 0:00:01\r\u001b[K     |███████████████                 | 1.0MB 8.8MB/s eta 0:00:01\r\u001b[K     |███████████████                 | 1.0MB 8.8MB/s eta 0:00:01\r\u001b[K     |███████████████▎                | 1.0MB 8.8MB/s eta 0:00:01\r\u001b[K     |███████████████▍                | 1.1MB 8.8MB/s eta 0:00:01\r\u001b[K     |███████████████▌                | 1.1MB 8.8MB/s eta 0:00:01\r\u001b[K     |███████████████▊                | 1.1MB 8.8MB/s eta 0:00:01\r\u001b[K     |███████████████▉                | 1.1MB 8.8MB/s eta 0:00:01\r\u001b[K     |████████████████                | 1.1MB 8.8MB/s eta 0:00:01\r\u001b[K     |████████████████▏               | 1.1MB 8.8MB/s eta 0:00:01\r\u001b[K     |████████████████▎               | 1.1MB 8.8MB/s eta 0:00:01\r\u001b[K     |████████████████▍               | 1.1MB 8.8MB/s eta 0:00:01\r\u001b[K     |████████████████▋               | 1.1MB 8.8MB/s eta 0:00:01\r\u001b[K     |████████████████▊               | 1.1MB 8.8MB/s eta 0:00:01\r\u001b[K     |████████████████▉               | 1.2MB 8.8MB/s eta 0:00:01\r\u001b[K     |█████████████████               | 1.2MB 8.8MB/s eta 0:00:01\r\u001b[K     |█████████████████▏              | 1.2MB 8.8MB/s eta 0:00:01\r\u001b[K     |█████████████████▎              | 1.2MB 8.8MB/s eta 0:00:01\r\u001b[K     |█████████████████▌              | 1.2MB 8.8MB/s eta 0:00:01\r\u001b[K     |█████████████████▋              | 1.2MB 8.8MB/s eta 0:00:01\r\u001b[K     |█████████████████▊              | 1.2MB 8.8MB/s eta 0:00:01\r\u001b[K     |██████████████████              | 1.2MB 8.8MB/s eta 0:00:01\r\u001b[K     |██████████████████              | 1.2MB 8.8MB/s eta 0:00:01\r\u001b[K     |██████████████████▏             | 1.2MB 8.8MB/s eta 0:00:01\r\u001b[K     |██████████████████▍             | 1.3MB 8.8MB/s eta 0:00:01\r\u001b[K     |██████████████████▌             | 1.3MB 8.8MB/s eta 0:00:01\r\u001b[K     |██████████████████▊             | 1.3MB 8.8MB/s eta 0:00:01\r\u001b[K     |██████████████████▉             | 1.3MB 8.8MB/s eta 0:00:01\r\u001b[K     |███████████████████             | 1.3MB 8.8MB/s eta 0:00:01\r\u001b[K     |███████████████████▏            | 1.3MB 8.8MB/s eta 0:00:01\r\u001b[K     |███████████████████▎            | 1.3MB 8.8MB/s eta 0:00:01\r\u001b[K     |███████████████████▍            | 1.3MB 8.8MB/s eta 0:00:01\r\u001b[K     |███████████████████▋            | 1.3MB 8.8MB/s eta 0:00:01\r\u001b[K     |███████████████████▊            | 1.4MB 8.8MB/s eta 0:00:01\r\u001b[K     |███████████████████▉            | 1.4MB 8.8MB/s eta 0:00:01\r\u001b[K     |████████████████████            | 1.4MB 8.8MB/s eta 0:00:01\r\u001b[K     |████████████████████▏           | 1.4MB 8.8MB/s eta 0:00:01\r\u001b[K     |████████████████████▎           | 1.4MB 8.8MB/s eta 0:00:01\r\u001b[K     |████████████████████▌           | 1.4MB 8.8MB/s eta 0:00:01\r\u001b[K     |████████████████████▋           | 1.4MB 8.8MB/s eta 0:00:01\r\u001b[K     |████████████████████▊           | 1.4MB 8.8MB/s eta 0:00:01\r\u001b[K     |█████████████████████           | 1.4MB 8.8MB/s eta 0:00:01\r\u001b[K     |█████████████████████           | 1.4MB 8.8MB/s eta 0:00:01\r\u001b[K     |█████████████████████▏          | 1.5MB 8.8MB/s eta 0:00:01\r\u001b[K     |█████████████████████▍          | 1.5MB 8.8MB/s eta 0:00:01\r\u001b[K     |█████████████████████▌          | 1.5MB 8.8MB/s eta 0:00:01\r\u001b[K     |█████████████████████▋          | 1.5MB 8.8MB/s eta 0:00:01\r\u001b[K     |█████████████████████▉          | 1.5MB 8.8MB/s eta 0:00:01\r\u001b[K     |██████████████████████          | 1.5MB 8.8MB/s eta 0:00:01\r\u001b[K     |██████████████████████          | 1.5MB 8.8MB/s eta 0:00:01\r\u001b[K     |██████████████████████▎         | 1.5MB 8.8MB/s eta 0:00:01\r\u001b[K     |██████████████████████▍         | 1.5MB 8.8MB/s eta 0:00:01\r\u001b[K     |██████████████████████▌         | 1.5MB 8.8MB/s eta 0:00:01\r\u001b[K     |██████████████████████▊         | 1.6MB 8.8MB/s eta 0:00:01\r\u001b[K     |██████████████████████▉         | 1.6MB 8.8MB/s eta 0:00:01\r\u001b[K     |███████████████████████         | 1.6MB 8.8MB/s eta 0:00:01\r\u001b[K     |███████████████████████▏        | 1.6MB 8.8MB/s eta 0:00:01\r\u001b[K     |███████████████████████▎        | 1.6MB 8.8MB/s eta 0:00:01\r\u001b[K     |███████████████████████▌        | 1.6MB 8.8MB/s eta 0:00:01\r\u001b[K     |███████████████████████▋        | 1.6MB 8.8MB/s eta 0:00:01\r\u001b[K     |███████████████████████▊        | 1.6MB 8.8MB/s eta 0:00:01\r\u001b[K     |████████████████████████        | 1.6MB 8.8MB/s eta 0:00:01\r\u001b[K     |████████████████████████        | 1.6MB 8.8MB/s eta 0:00:01\r\u001b[K     |████████████████████████▏       | 1.7MB 8.8MB/s eta 0:00:01\r\u001b[K     |████████████████████████▍       | 1.7MB 8.8MB/s eta 0:00:01\r\u001b[K     |████████████████████████▌       | 1.7MB 8.8MB/s eta 0:00:01\r\u001b[K     |████████████████████████▋       | 1.7MB 8.8MB/s eta 0:00:01\r\u001b[K     |████████████████████████▉       | 1.7MB 8.8MB/s eta 0:00:01\r\u001b[K     |█████████████████████████       | 1.7MB 8.8MB/s eta 0:00:01\r\u001b[K     |█████████████████████████       | 1.7MB 8.8MB/s eta 0:00:01\r\u001b[K     |█████████████████████████▎      | 1.7MB 8.8MB/s eta 0:00:01\r\u001b[K     |█████████████████████████▍      | 1.7MB 8.8MB/s eta 0:00:01\r\u001b[K     |█████████████████████████▌      | 1.8MB 8.8MB/s eta 0:00:01\r\u001b[K     |█████████████████████████▊      | 1.8MB 8.8MB/s eta 0:00:01\r\u001b[K     |█████████████████████████▉      | 1.8MB 8.8MB/s eta 0:00:01\r\u001b[K     |██████████████████████████      | 1.8MB 8.8MB/s eta 0:00:01\r\u001b[K     |██████████████████████████▏     | 1.8MB 8.8MB/s eta 0:00:01\r\u001b[K     |██████████████████████████▎     | 1.8MB 8.8MB/s eta 0:00:01\r\u001b[K     |██████████████████████████▍     | 1.8MB 8.8MB/s eta 0:00:01\r\u001b[K     |██████████████████████████▋     | 1.8MB 8.8MB/s eta 0:00:01\r\u001b[K     |██████████████████████████▊     | 1.8MB 8.8MB/s eta 0:00:01\r\u001b[K     |██████████████████████████▉     | 1.8MB 8.8MB/s eta 0:00:01\r\u001b[K     |███████████████████████████     | 1.9MB 8.8MB/s eta 0:00:01\r\u001b[K     |███████████████████████████▏    | 1.9MB 8.8MB/s eta 0:00:01\r\u001b[K     |███████████████████████████▎    | 1.9MB 8.8MB/s eta 0:00:01\r\u001b[K     |███████████████████████████▌    | 1.9MB 8.8MB/s eta 0:00:01\r\u001b[K     |███████████████████████████▋    | 1.9MB 8.8MB/s eta 0:00:01\r\u001b[K     |███████████████████████████▉    | 1.9MB 8.8MB/s eta 0:00:01\r\u001b[K     |████████████████████████████    | 1.9MB 8.8MB/s eta 0:00:01\r\u001b[K     |████████████████████████████    | 1.9MB 82kB/s eta 0:00:04\r\u001b[K     |████████████████████████████▎   | 1.9MB 82kB/s eta 0:00:04\r\u001b[K     |████████████████████████████▍   | 1.9MB 82kB/s eta 0:00:03\r\u001b[K     |████████████████████████████▌   | 2.0MB 82kB/s eta 0:00:03\r\u001b[K     |████████████████████████████▊   | 2.0MB 82kB/s eta 0:00:03\r\u001b[K     |████████████████████████████▉   | 2.0MB 82kB/s eta 0:00:03\r\u001b[K     |█████████████████████████████   | 2.0MB 82kB/s eta 0:00:03\r\u001b[K     |█████████████████████████████▏  | 2.0MB 82kB/s eta 0:00:03\r\u001b[K     |█████████████████████████████▎  | 2.0MB 82kB/s eta 0:00:03\r\u001b[K     |█████████████████████████████▍  | 2.0MB 82kB/s eta 0:00:03\r\u001b[K     |█████████████████████████████▋  | 2.0MB 82kB/s eta 0:00:03\r\u001b[K     |█████████████████████████████▊  | 2.0MB 82kB/s eta 0:00:02\r\u001b[K     |█████████████████████████████▉  | 2.0MB 82kB/s eta 0:00:02\r\u001b[K     |██████████████████████████████  | 2.1MB 82kB/s eta 0:00:02\r\u001b[K     |██████████████████████████████▏ | 2.1MB 82kB/s eta 0:00:02\r\u001b[K     |██████████████████████████████▎ | 2.1MB 82kB/s eta 0:00:02\r\u001b[K     |██████████████████████████████▌ | 2.1MB 82kB/s eta 0:00:02\r\u001b[K     |██████████████████████████████▋ | 2.1MB 82kB/s eta 0:00:02\r\u001b[K     |██████████████████████████████▊ | 2.1MB 82kB/s eta 0:00:02\r\u001b[K     |███████████████████████████████ | 2.1MB 82kB/s eta 0:00:01\r\u001b[K     |███████████████████████████████ | 2.1MB 82kB/s eta 0:00:01\r\u001b[K     |███████████████████████████████▏| 2.1MB 82kB/s eta 0:00:01\r\u001b[K     |███████████████████████████████▍| 2.2MB 82kB/s eta 0:00:01\r\u001b[K     |███████████████████████████████▌| 2.2MB 82kB/s eta 0:00:01\r\u001b[K     |███████████████████████████████▋| 2.2MB 82kB/s eta 0:00:01\r\u001b[K     |███████████████████████████████▉| 2.2MB 82kB/s eta 0:00:01\r\u001b[K     |████████████████████████████████| 2.2MB 82kB/s eta 0:00:01\r\u001b[K     |████████████████████████████████| 2.2MB 82kB/s \n",
            "\u001b[?25hRequirement already satisfied: numpy in /usr/local/lib/python3.6/dist-packages (from Biopython) (1.16.5)\n",
            "Installing collected packages: Biopython\n",
            "Successfully installed Biopython-1.74\n"
          ],
          "name": "stdout"
        }
      ]
    },
    {
      "cell_type": "code",
      "metadata": {
        "id": "dj1O-ayC-VCM",
        "colab_type": "code",
        "outputId": "12a98c8a-997d-4a02-933c-e009ee8f9a65",
        "colab": {
          "base_uri": "https://localhost:8080/",
          "height": 34
        }
      },
      "source": [
        "fv=feature_extract1(\"H1NeT.fasta\")\n",
        "print(fv.values[1])"
      ],
      "execution_count": 36,
      "outputs": [
        {
          "output_type": "stream",
          "text": [
            "[1. 0. 0. 2. 1. 0. 0. 2. 4. 3. 0. 0. 0. 0. 0. 0. 0. 0. 0. 0.]\n"
          ],
          "name": "stdout"
        }
      ]
    },
    {
      "cell_type": "code",
      "metadata": {
        "id": "pVNoGBPyCL7n",
        "colab_type": "code",
        "colab": {}
      },
      "source": [
        ""
      ],
      "execution_count": 0,
      "outputs": []
    }
  ]
}